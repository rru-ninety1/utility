{
    "metadata": {
        "kernelspec": {
            "name": "SQL",
            "display_name": "SQL",
            "language": "sql"
        },
        "language_info": {
            "name": "sql",
            "version": ""
        }
    },
    "nbformat_minor": 2,
    "nbformat": 4,
    "cells": [
        {
            "cell_type": "markdown",
            "source": [
                "# Manutenzione database\n",
                "\n",
                "- [Dimensione database](#dimensione-file)\n",
                "- [Conteggio righe tabelle](#conteggio-righe)\n",
                "- [Frammentazione indici](#frammentazione-indici)\n",
                "- [Rebuild indici](#rebuild-indici)\n",
                "- [Connessioni con query attive](#query-attive)\n",
                "\n",
                "## Dimensione database"
            ],
            "metadata": {
                "azdata_cell_guid": "5d830401-68cd-4e20-a9ee-be54c52bce36"
            },
            "attachments": {}
        },
        {
            "cell_type": "code",
            "source": [
                "SELECT\r\n",
                "  DB_NAME() AS DbName,\r\n",
                "  name AS FileName,\r\n",
                "  type_desc,\r\n",
                "  size / 128.0 AS CurrentSizeMB,\r\n",
                "  size / 128.0 - CAST(FILEPROPERTY(name, 'SpaceUsed') AS INT) / 128.0 AS FreeSpaceMB\r\n",
                "FROM\r\n",
                "  sys.database_files\r\n",
                "WHERE\r\n",
                "  type IN (0, 1);"
            ],
            "metadata": {
                "azdata_cell_guid": "d5e21d6b-1352-433c-b3e0-259e07cf6889",
                "language": "sql",
                "tags": [
                    "hide_input"
                ]
            },
            "outputs": [],
            "execution_count": null
        },
        {
            "cell_type": "markdown",
            "source": [
                "## Conteggio righe"
            ],
            "metadata": {
                "azdata_cell_guid": "eacb3853-16a3-4a85-9341-8d417fcfe7f9"
            },
            "attachments": {}
        },
        {
            "cell_type": "code",
            "source": [
                "SELECT\r\n",
                "  t.NAME AS TableName,\r\n",
                "  i.name AS indexName,\r\n",
                "  p.[Rows],\r\n",
                "  sum(a.total_pages) AS TotalPages,\r\n",
                "  sum(a.used_pages) AS UsedPages,\r\n",
                "  sum(a.data_pages) AS DataPages,\r\n",
                "  (sum(a.total_pages) * 8) / 1024 AS TotalSpaceMB,\r\n",
                "  (sum(a.used_pages) * 8) / 1024 AS UsedSpaceMB,\r\n",
                "  (sum(a.data_pages) * 8) / 1024 AS DataSpaceMB\r\n",
                "FROM\r\n",
                "  sys.tables t\r\n",
                "  INNER JOIN sys.indexes i ON t.OBJECT_ID = i.object_id\r\n",
                "  INNER JOIN sys.partitions p ON i.object_id = p.OBJECT_ID\r\n",
                "  AND i.index_id = p.index_id\r\n",
                "  INNER JOIN sys.allocation_units a ON p.partition_id = a.container_id\r\n",
                "WHERE\r\n",
                "  t.NAME NOT LIKE 'dt%'\r\n",
                "  AND i.OBJECT_ID > 255\r\n",
                "  AND i.index_id <= 1\r\n",
                "GROUP BY\r\n",
                "  t.NAME,\r\n",
                "  i.object_id,\r\n",
                "  i.index_id,\r\n",
                "  i.name,\r\n",
                "  p.[Rows]\r\n",
                "ORDER BY\r\n",
                "  object_name(i.object_id)"
            ],
            "metadata": {
                "azdata_cell_guid": "3faebe4d-c32d-464a-97ad-698ce49cd33e",
                "language": "sql",
                "tags": [
                    "hide_input"
                ]
            },
            "outputs": [],
            "execution_count": null
        },
        {
            "cell_type": "markdown",
            "source": [
                "## Frammentazione indici"
            ],
            "metadata": {
                "azdata_cell_guid": "93a01774-3c39-48ed-9cde-37974f135808"
            },
            "attachments": {}
        },
        {
            "cell_type": "code",
            "source": [
                "SELECT\r\n",
                "  S.name AS 'Schema',\r\n",
                "  T.name AS 'Table',\r\n",
                "  I.name AS 'Index',\r\n",
                "  DDIPS.avg_fragmentation_in_percent,\r\n",
                "  DDIPS.page_count\r\n",
                "FROM\r\n",
                "  sys.dm_db_index_physical_stats (DB_ID(), NULL, NULL, NULL, NULL) AS DDIPS\r\n",
                "  INNER JOIN sys.tables T ON T.object_id = DDIPS.object_id\r\n",
                "  INNER JOIN sys.schemas S ON T.schema_id = S.schema_id\r\n",
                "  INNER JOIN sys.indexes I ON I.object_id = DDIPS.object_id\r\n",
                "  AND DDIPS.index_id = I.index_id\r\n",
                "WHERE\r\n",
                "  DDIPS.database_id = DB_ID()\r\n",
                "  AND I.name IS NOT NULL\r\n",
                "  AND DDIPS.avg_fragmentation_in_percent > 0\r\n",
                "ORDER BY\r\n",
                "  DDIPS.avg_fragmentation_in_percent DESC"
            ],
            "metadata": {
                "azdata_cell_guid": "00a03f5b-e077-400a-a460-cac8d96e5eb6",
                "language": "sql",
                "tags": [
                    "hide_input"
                ]
            },
            "outputs": [],
            "execution_count": null
        },
        {
            "cell_type": "markdown",
            "source": [
                "## Rebuild indici"
            ],
            "metadata": {
                "azdata_cell_guid": "4b9a68a5-16e5-44e3-8136-693be904c96c"
            },
            "attachments": {}
        },
        {
            "cell_type": "code",
            "source": [
                "-- IMPOSTATE IL NOME DEL DB\r\n",
                "DECLARE @Database NVARCHAR(255)   = ''\r\n",
                "\r\n",
                "DECLARE @Table NVARCHAR(255)  \r\n",
                "DECLARE @cmd NVARCHAR(1000)\r\n",
                "\r\n",
                "SET @cmd = 'DECLARE TableCursor CURSOR READ_ONLY FOR SELECT ''['' + table_catalog + ''].['' + table_schema + ''].['' +  \r\n",
                "   table_name + '']'' as tableName FROM [' + @Database + '].INFORMATION_SCHEMA.TABLES WHERE table_type = ''BASE TABLE'''   \r\n",
                "\r\n",
                "   -- create table cursor  \r\n",
                "   EXEC (@cmd)  \r\n",
                "   OPEN TableCursor   \r\n",
                "\r\n",
                "   FETCH NEXT FROM TableCursor INTO @Table   \r\n",
                "   WHILE @@FETCH_STATUS = 0   \r\n",
                "   BEGIN\r\n",
                "      BEGIN TRY   \r\n",
                "         SET @cmd = 'ALTER INDEX ALL ON ' + @Table + ' REBUILD'\r\n",
                "         --PRINT @cmd -- uncomment if you want to see commands\r\n",
                "         EXEC (@cmd)\r\n",
                "      END TRY\r\n",
                "      BEGIN CATCH\r\n",
                "         PRINT '---'\r\n",
                "         PRINT @cmd\r\n",
                "         PRINT ERROR_MESSAGE()\r\n",
                "         PRINT '---'\r\n",
                "      END CATCH\r\n",
                "\r\n",
                "      FETCH NEXT FROM TableCursor INTO @Table   \r\n",
                "   END   \r\n",
                "\r\n",
                "   CLOSE TableCursor   \r\n",
                "   DEALLOCATE TableCursor \r\n",
                ""
            ],
            "metadata": {
                "azdata_cell_guid": "be9bb8fe-259c-490e-90f2-2da504ba9453",
                "language": "sql",
                "tags": [
                    "hide_input"
                ]
            },
            "outputs": [],
            "execution_count": null
        },
        {
            "cell_type": "markdown",
            "source": [
                "## Query attive"
            ],
            "metadata": {
                "azdata_cell_guid": "3921a24c-7688-4508-bf33-eb17d0947cc6"
            },
            "attachments": {}
        },
        {
            "cell_type": "code",
            "source": [
                "-- IMPOSTATE IL NOME DEL DB\r\n",
                "DECLARE @databasename varchar(100) = ''\r\n",
                "\r\n",
                "SELECT\r\n",
                "  spid,\r\n",
                "  hostname,\r\n",
                "  program_name,\r\n",
                "  cpu,\r\n",
                "  physical_io,\r\n",
                "  memusage,\r\n",
                "  login_time,\r\n",
                "  last_batch,\r\n",
                "  status,\r\n",
                "  cmd,\r\n",
                "  (\r\n",
                "    SELECT\r\n",
                "      text\r\n",
                "    FROM\r\n",
                "      fn_get_sql(sql_handle)\r\n",
                "  )\r\n",
                "FROM\r\n",
                "  master..sysprocesses\r\n",
                "WHERE\r\n",
                "  dbid = db_id(@databasename)\r\n",
                "ORDER BY\r\n",
                "  cpu DESC"
            ],
            "metadata": {
                "language": "sql",
                "azdata_cell_guid": "86145f6d-a2d8-40bd-ae2f-7e3b40c74795",
                "tags": [
                    "hide_input"
                ]
            },
            "outputs": [],
            "execution_count": null
        }
    ]
}